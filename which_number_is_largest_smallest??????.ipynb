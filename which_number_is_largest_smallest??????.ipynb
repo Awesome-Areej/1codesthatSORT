{
  "nbformat": 4,
  "nbformat_minor": 0,
  "metadata": {
    "colab": {
      "name": "which number is largest/smallest??????",
      "provenance": [],
      "authorship_tag": "ABX9TyMhh+3sOGKcp74f5IF1SW08",
      "include_colab_link": true
    },
    "kernelspec": {
      "name": "python3",
      "display_name": "Python 3"
    }
  },
  "cells": [
    {
      "cell_type": "markdown",
      "metadata": {
        "id": "view-in-github",
        "colab_type": "text"
      },
      "source": [
        "<a href=\"https://colab.research.google.com/github/Awsome-Areej/1codesthatSORT/blob/master/which_number_is_largest_smallest%3F%3F%3F%3F%3F%3F.ipynb\" target=\"_parent\"><img src=\"https://colab.research.google.com/assets/colab-badge.svg\" alt=\"Open In Colab\"/></a>"
      ]
    },
    {
      "cell_type": "code",
      "metadata": {
        "id": "lkRUn1C201fw",
        "colab_type": "code",
        "colab": {}
      },
      "source": [
        "mylist = [11.1, 2, 10, 3, 11, 0, 98, 5]"
      ],
      "execution_count": 0,
      "outputs": []
    },
    {
      "cell_type": "code",
      "metadata": {
        "id": "MJTibYAZ0-8q",
        "colab_type": "code",
        "colab": {}
      },
      "source": [
        "def largestn(a):\n",
        "  result = a[0]\n",
        "  for i in range(1, len(a)):\n",
        "    if a[i] > result:\n",
        "      result = a[i]\n",
        "  return result"
      ],
      "execution_count": 0,
      "outputs": []
    },
    {
      "cell_type": "code",
      "metadata": {
        "id": "sJCDrwny1BEq",
        "colab_type": "code",
        "outputId": "088e24d8-9de8-4077-95ef-4586529154a2",
        "colab": {
          "base_uri": "https://localhost:8080/",
          "height": 34
        }
      },
      "source": [
        "largestn(mylist)"
      ],
      "execution_count": 0,
      "outputs": [
        {
          "output_type": "execute_result",
          "data": {
            "text/plain": [
              "98"
            ]
          },
          "metadata": {
            "tags": []
          },
          "execution_count": 25
        }
      ]
    },
    {
      "cell_type": "code",
      "metadata": {
        "id": "3GNLkhpi1PMC",
        "colab_type": "code",
        "colab": {}
      },
      "source": [
        "def smallestnumber(n):\n",
        "  sn = n[0]\n",
        "  for small in range(1, len(n)):\n",
        "    if n[small] < sn:\n",
        "      sn = n[small]\n",
        "  return sn"
      ],
      "execution_count": 0,
      "outputs": []
    },
    {
      "cell_type": "code",
      "metadata": {
        "id": "HM6KXByB1VlV",
        "colab_type": "code",
        "outputId": "a1e37936-2730-43af-c174-7f53dfde7c54",
        "colab": {
          "base_uri": "https://localhost:8080/",
          "height": 34
        }
      },
      "source": [
        "smallestnumber(mylist)"
      ],
      "execution_count": 0,
      "outputs": [
        {
          "output_type": "execute_result",
          "data": {
            "text/plain": [
              "0"
            ]
          },
          "metadata": {
            "tags": []
          },
          "execution_count": 17
        }
      ]
    },
    {
      "cell_type": "code",
      "metadata": {
        "id": "L9kmBdWm2yIR",
        "colab_type": "code",
        "colab": {}
      },
      "source": [
        "def numbers(n):\n",
        "  wf = input (\" Choose an option: 1.largest number 2.smallest number. Type in either 1 or 2. Your choice was \")\n",
        " \n",
        "  if wf == \"1\":\n",
        "    result = n[0]\n",
        "    for i in range(1, len(n)):\n",
        "      if n[i]> result:\n",
        "        result = n[i]\n",
        "    return result\n",
        "  \n",
        "  elif wf == \"2\":\n",
        "    sn = n[0]\n",
        "    for small in range(1, len(n)):\n",
        "      if n[small] < sn:\n",
        "        sn = n[small]\n",
        "    return sn\n",
        "  \n",
        "  else:\n",
        "    print (\"ERROR #099\")\n",
        "    print (\"RELOAD THE CODE\")"
      ],
      "execution_count": 0,
      "outputs": []
    },
    {
      "cell_type": "code",
      "metadata": {
        "id": "yIWQML1p2_yJ",
        "colab_type": "code",
        "outputId": "fabb0d6c-16d0-4e96-ca65-659d83327874",
        "colab": {
          "base_uri": "https://localhost:8080/",
          "height": 68
        }
      },
      "source": [
        "numbers(mylist)"
      ],
      "execution_count": 0,
      "outputs": [
        {
          "output_type": "stream",
          "text": [
            " Choose an option: 1.largest number 2.smallest number. Type in either 1 or 2. Your choice was 3\n",
            "ERROR #099\n",
            "RELOAD THE CODE\n"
          ],
          "name": "stdout"
        }
      ]
    },
    {
      "cell_type": "code",
      "metadata": {
        "id": "hLRbhNvt9jwT",
        "colab_type": "code",
        "colab": {}
      },
      "source": [
        ""
      ],
      "execution_count": 0,
      "outputs": []
    }
  ]
}