{
  "nbformat": 4,
  "nbformat_minor": 0,
  "metadata": {
    "colab": {
      "name": "UnDecided.ipynb",
      "provenance": [],
      "authorship_tag": "ABX9TyPA4cRNk+zQVcAdxrMZmp7T",
      "include_colab_link": true
    },
    "kernelspec": {
      "name": "python3",
      "display_name": "Python 3"
    }
  },
  "cells": [
    {
      "cell_type": "markdown",
      "metadata": {
        "id": "view-in-github",
        "colab_type": "text"
      },
      "source": [
        "<a href=\"https://colab.research.google.com/github/Awesome-Areej/1codesthatSORT/blob/master/UnDecided.ipynb\" target=\"_parent\"><img src=\"https://colab.research.google.com/assets/colab-badge.svg\" alt=\"Open In Colab\"/></a>"
      ]
    },
    {
      "cell_type": "code",
      "metadata": {
        "id": "4hrLnX3v-4bp",
        "colab_type": "code",
        "colab": {}
      },
      "source": [
        "Movies = [\"Bob the Builder\", \"Pokemon\", \"Home Alone 3\", \"Magic School Bus Rides Again\"]"
      ],
      "execution_count": 0,
      "outputs": []
    },
    {
      "cell_type": "code",
      "metadata": {
        "id": "m-VmFPy8_Kkf",
        "colab_type": "code",
        "colab": {}
      },
      "source": [
        "from random import randint\n"
      ],
      "execution_count": 0,
      "outputs": []
    },
    {
      "cell_type": "code",
      "metadata": {
        "id": "wOTt9-nc_Pqf",
        "colab_type": "code",
        "colab": {}
      },
      "source": [
        "def UnDecided(L):\n",
        "  res = \"\"\n",
        "  n = randint(0, len(L)-1)\n",
        "  res = res + L[n]\n",
        "  return res "
      ],
      "execution_count": 0,
      "outputs": []
    },
    {
      "cell_type": "code",
      "metadata": {
        "id": "Aomspvt0_e1v",
        "colab_type": "code",
        "colab": {
          "base_uri": "https://localhost:8080/",
          "height": 34
        },
        "outputId": "0032cc4c-e4c4-45e7-d41e-00686efb7eae"
      },
      "source": [
        "UnDecided(Movies)"
      ],
      "execution_count": 38,
      "outputs": [
        {
          "output_type": "execute_result",
          "data": {
            "text/plain": [
              "'Magic School Bus Rides Again'"
            ]
          },
          "metadata": {
            "tags": []
          },
          "execution_count": 38
        }
      ]
    },
    {
      "cell_type": "code",
      "metadata": {
        "id": "0LWOF8To_srv",
        "colab_type": "code",
        "colab": {}
      },
      "source": [
        "def Picker(L):\n",
        "  mv1 = 0\n",
        "  mv2 = 0\n",
        "  mv3 = 0\n",
        "  mv4 = 0\n",
        "  for i in range(100):\n",
        "    if UnDecided(L) == L[0]:\n",
        "      mv1 = mv1 + 1\n",
        "    elif UnDecided(L) == L[1]:\n",
        "      mv2 = mv2 + 1 \n",
        "    elif UnDecided(L) == L[2]:\n",
        "      mv3 = mv3 + 1\n",
        "    elif UnDecided(L) == L[3]:\n",
        "      mv4 = mv4 + 1\n",
        "\n",
        "  return (\"votes for 1st movie = \" +str(mv1), \"votes for 1st movie = \" +str(mv2), \"votes for 1st movie = \" +str(mv3), \"votes for 1st movie = \" +str(mv4))"
      ],
      "execution_count": 0,
      "outputs": []
    },
    {
      "cell_type": "code",
      "metadata": {
        "id": "jOAvZVP5AwJk",
        "colab_type": "code",
        "colab": {
          "base_uri": "https://localhost:8080/",
          "height": 85
        },
        "outputId": "4e33d188-e423-44ee-ee5a-632d70482b64"
      },
      "source": [
        "Picker(Movies)"
      ],
      "execution_count": 46,
      "outputs": [
        {
          "output_type": "execute_result",
          "data": {
            "text/plain": [
              "('votes for 1st movie = 20',\n",
              " 'votes for 1st movie = 18',\n",
              " 'votes for 1st movie = 18',\n",
              " 'votes for 1st movie = 17')"
            ]
          },
          "metadata": {
            "tags": []
          },
          "execution_count": 46
        }
      ]
    },
    {
      "cell_type": "code",
      "metadata": {
        "id": "3BNrtKcnC_dn",
        "colab_type": "code",
        "colab": {}
      },
      "source": [
        "def mycompare(item1):\n",
        "  return item1[1]  \n",
        "\n",
        "def Vote():\n",
        "  votes = []\n",
        "  n = input (\"Number of people voting?\")\n",
        "  for democracy in range(int(n)):\n",
        "    vote = input (\"Pick a thing.\")\n",
        "    votes = votes + [vote]\n",
        "  \n",
        "  counting = {}\n",
        "  for x in votes:\n",
        "    if not x in  counting.keys():\n",
        "      counting[x]=1\n",
        "    else:\n",
        "      counting[x] = counting[x] +1 \n",
        "  return sorted(list(counting.items()), key=mycompare, reverse=True)\n",
        "  "
      ],
      "execution_count": 0,
      "outputs": []
    },
    {
      "cell_type": "code",
      "metadata": {
        "id": "jI7J229CECih",
        "colab_type": "code",
        "colab": {
          "base_uri": "https://localhost:8080/",
          "height": 119
        },
        "outputId": "aaed1fa5-929c-4aff-cde2-aef5d4b841a0"
      },
      "source": [
        "Vote()"
      ],
      "execution_count": 94,
      "outputs": [
        {
          "output_type": "stream",
          "text": [
            "Number of people voting?4\n",
            "Pick a thing.Stuff\n",
            "Pick a thing.Stuff\n",
            "Pick a thing.Stuff\n",
            "Pick a thing.Sleep\n"
          ],
          "name": "stdout"
        },
        {
          "output_type": "execute_result",
          "data": {
            "text/plain": [
              "[('Stuff', 3), ('Sleep', 1)]"
            ]
          },
          "metadata": {
            "tags": []
          },
          "execution_count": 94
        }
      ]
    },
    {
      "cell_type": "code",
      "metadata": {
        "id": "vDFuuzBiICsC",
        "colab_type": "code",
        "colab": {}
      },
      "source": [
        ""
      ],
      "execution_count": 0,
      "outputs": []
    },
    {
      "cell_type": "code",
      "metadata": {
        "id": "ZmY0e5edIL_f",
        "colab_type": "code",
        "colab": {
          "base_uri": "https://localhost:8080/",
          "height": 34
        },
        "outputId": "119529ad-12bf-404c-e0ee-471185857656"
      },
      "source": [
        "zz = {'mov1': 1, 'mov2': 11}\n",
        "sorted( list(zz.items()), key=mycompare, reverse=True)"
      ],
      "execution_count": 92,
      "outputs": [
        {
          "output_type": "execute_result",
          "data": {
            "text/plain": [
              "[('mov2', 11), ('mov1', 1)]"
            ]
          },
          "metadata": {
            "tags": []
          },
          "execution_count": 92
        }
      ]
    },
    {
      "cell_type": "code",
      "metadata": {
        "id": "Y9VWaA_HJGJT",
        "colab_type": "code",
        "colab": {
          "base_uri": "https://localhost:8080/",
          "height": 34
        },
        "outputId": "34105e46-090b-46f5-899f-47d148a03e06"
      },
      "source": [
        "list(zz.items())"
      ],
      "execution_count": 84,
      "outputs": [
        {
          "output_type": "execute_result",
          "data": {
            "text/plain": [
              "[('mov1', 1), ('mov2', 11)]"
            ]
          },
          "metadata": {
            "tags": []
          },
          "execution_count": 84
        }
      ]
    },
    {
      "cell_type": "code",
      "metadata": {
        "id": "9an0G5kVHaP5",
        "colab_type": "code",
        "colab": {
          "base_uri": "https://localhost:8080/",
          "height": 34
        },
        "outputId": "88e2023b-d4fd-44a8-c250-04eb98d1f396"
      },
      "source": [
        "sorted([2, 1])"
      ],
      "execution_count": 68,
      "outputs": [
        {
          "output_type": "execute_result",
          "data": {
            "text/plain": [
              "[1, 2]"
            ]
          },
          "metadata": {
            "tags": []
          },
          "execution_count": 68
        }
      ]
    },
    {
      "cell_type": "code",
      "metadata": {
        "id": "vhRoaQjnFFb3",
        "colab_type": "code",
        "colab": {}
      },
      "source": [
        "rl = [\"ere\", \"ee\", \"ee\", \"ere\", \"eee\"]"
      ],
      "execution_count": 0,
      "outputs": []
    },
    {
      "cell_type": "code",
      "metadata": {
        "id": "EAqA9uAJERww",
        "colab_type": "code",
        "colab": {}
      },
      "source": [
        "# constructing a dict where the keys are the words and the values are the number of appearances \n",
        "\n",
        "counting = {}\n",
        "for x in rl:\n",
        "  if not x in  counting.keys():\n",
        "    counting[x]=1\n",
        "  else:\n",
        "    counting[x] = counting[x] +1 \n",
        "\n"
      ],
      "execution_count": 0,
      "outputs": []
    },
    {
      "cell_type": "code",
      "metadata": {
        "id": "C6uMXpIPFd8-",
        "colab_type": "code",
        "colab": {
          "base_uri": "https://localhost:8080/",
          "height": 34
        },
        "outputId": "12d61f17-9bd5-415a-c297-aa2df789e97c"
      },
      "source": [
        "counting"
      ],
      "execution_count": 61,
      "outputs": [
        {
          "output_type": "execute_result",
          "data": {
            "text/plain": [
              "{'ee': 3435, 'eee': 3434, 'ere': 3435}"
            ]
          },
          "metadata": {
            "tags": []
          },
          "execution_count": 61
        }
      ]
    },
    {
      "cell_type": "code",
      "metadata": {
        "id": "PjHo3aY5FnVS",
        "colab_type": "code",
        "colab": {
          "base_uri": "https://localhost:8080/",
          "height": 34
        },
        "outputId": "7ba28427-ab11-4b90-98b0-daa04a5fb790"
      },
      "source": [
        "counting.keys()"
      ],
      "execution_count": 58,
      "outputs": [
        {
          "output_type": "execute_result",
          "data": {
            "text/plain": [
              "dict_keys(['ere', 'ee', 'eee'])"
            ]
          },
          "metadata": {
            "tags": []
          },
          "execution_count": 58
        }
      ]
    },
    {
      "cell_type": "code",
      "metadata": {
        "id": "jQdYg1LSF_pc",
        "colab_type": "code",
        "colab": {
          "base_uri": "https://localhost:8080/",
          "height": 34
        },
        "outputId": "0f94e250-463b-4c4f-d614-aaa5cbe5aab6"
      },
      "source": [
        "counting.values()"
      ],
      "execution_count": 59,
      "outputs": [
        {
          "output_type": "execute_result",
          "data": {
            "text/plain": [
              "dict_values([2, 2, 1])"
            ]
          },
          "metadata": {
            "tags": []
          },
          "execution_count": 59
        }
      ]
    },
    {
      "cell_type": "code",
      "metadata": {
        "id": "PruNDcmjGEV_",
        "colab_type": "code",
        "colab": {}
      },
      "source": [
        ""
      ],
      "execution_count": 0,
      "outputs": []
    }
  ]
}